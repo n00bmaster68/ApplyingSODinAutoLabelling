{
 "cells": [
  {
   "cell_type": "code",
   "execution_count": null,
   "metadata": {
    "id": "187YBwDcuUDX"
   },
   "outputs": [],
   "source": [
    "#import my model from my drive\n",
    "from google.colab import drive\n",
    "drive.mount('/content/gdrive')\n",
    "!git clone https://github.com/n00bmaster68/ApplyingSODinAutoLabelling\n",
    "\n",
    "#check whether device has GPU\n",
    "import tensorflow as tf\n",
    "tf.test.gpu_device_name()"
   ]
  },
  {
   "cell_type": "code",
   "execution_count": null,
   "metadata": {
    "id": "M_lMrpL8y6Am"
   },
   "outputs": [],
   "source": [
    "!nvidia-smi -L"
   ]
  },
  {
   "cell_type": "code",
   "execution_count": null,
   "metadata": {
    "id": "sBG0DTh8xtZo"
   },
   "outputs": [],
   "source": [
    "import os\n",
    "import time\n",
    "from skimage import io, transform\n",
    "import torch\n",
    "import torchvision\n",
    "from torch.autograd import Variable\n",
    "import torch.nn as nn\n",
    "import torch.nn.functional as F\n",
    "from torch.utils.data import Dataset, DataLoader\n",
    "from torchvision import transforms#, utils\n",
    "# import torch.optim as optim\n",
    "\n",
    "import numpy as np\n",
    "import cv2\n",
    "from PIL import Image\n",
    "from google.colab.patches import cv2_imshow \n",
    "import glob\n",
    " \n",
    "from ApplyingSODinAutoLabelling.data_loader import RescaleT\n",
    "from ApplyingSODinAutoLabelling.data_loader import CenterCrop\n",
    "from ApplyingSODinAutoLabelling.data_loader import ToTensor\n",
    "from ApplyingSODinAutoLabelling.data_loader import ToTensorLab\n",
    "from ApplyingSODinAutoLabelling.data_loader import SalObjDataset\n",
    "\n",
    "from ApplyingSODinAutoLabelling.model import BASNet"
   ]
  },
  {
   "cell_type": "code",
   "execution_count": null,
   "metadata": {
    "id": "c_jPbGrlxr3m"
   },
   "outputs": [],
   "source": [
    "def normPRED(d):\n",
    "\tma = torch.max(d)\n",
    "\tmi = torch.min(d)\n",
    "\n",
    "\tdn = (d-mi)/(ma-mi)\n",
    "\treturn dn"
   ]
  },
  {
   "cell_type": "code",
   "execution_count": null,
   "metadata": {
    "id": "I6tkK9FCGyJg"
   },
   "outputs": [],
   "source": []
  },
  {
   "cell_type": "code",
   "execution_count": null,
   "metadata": {
    "id": "odh17y-gBmoU"
   },
   "outputs": [],
   "source": [
    "def save_output(image_name,pred,d_dir):\n",
    "\tpredict = pred\n",
    "\tpredict = predict.squeeze()\n",
    "\tpredict_np = predict.cpu().data.numpy()\n",
    "\n",
    "\tim = Image.fromarray(predict_np*255).convert('RGB')\n",
    "\timg_name = image_name.split(\"/\")[-1]\n",
    "\timage = io.imread(image_name)\n",
    "\timo = im.resize((image.shape[1],image.shape[0]),resample=Image.BILINEAR)\n",
    "\t# imo.show()\n",
    "\tgetCoordinate(imo)"
   ]
  },
  {
   "cell_type": "code",
   "execution_count": null,
   "metadata": {
    "id": "p83mP6agBnGg"
   },
   "outputs": [],
   "source": [
    "def getCoordinate(imo):\n",
    "  opencvImage = cv2.cvtColor(np.array(imo), cv2.COLOR_RGB2BGR)\n",
    "  height, width, _ = opencvImage.shape\n",
    "  # cv2_imshow(cv2.resize(opencvImage, (int(width/2), int(height/2)), interpolation = cv2.INTER_AREA))\n",
    "\n",
    "  lower = [np.mean(opencvImage[:,:,i] - np.std(opencvImage[:,:,i])/3 ) for i in range(3)]\n",
    "  upper = [250, 250, 250]\n",
    "  \n",
    "  # create NumPy arrays from the boundaries\n",
    "  lower = np.array(lower, dtype=\"uint8\")\n",
    "  upper = np.array(upper, dtype=\"uint8\")\n",
    "  \n",
    "  # find the colors within the specified boundaries and apply\n",
    "  mask = cv2.inRange(opencvImage, lower, upper)\n",
    "  output = cv2.bitwise_and(opencvImage, opencvImage, mask=mask)\n",
    "  \n",
    "  ret,thresh = cv2.threshold(mask, 40, 255, 0)\n",
    "  contours, hierarchy = cv2.findContours(thresh, cv2.RETR_EXTERNAL, cv2.CHAIN_APPROX_NONE)\n",
    "  \n",
    "  largest_contour = max(contours, key = cv2.contourArea)\n",
    "  x,y,w,h = cv2.boundingRect(largest_contour)\n",
    "\n",
    "  cv2_imshow(cv2.resize(cv2.rectangle(opencvImage,(x,y),(x+w,y+h),(0,255,0),2), (int(width/2), int(height/2)), interpolation = cv2.INTER_AREA))\n",
    "\n",
    "  print(x/width, y/height, w/width, h/height)\n",
    "  print(f\"x:{x}, y:{y}, hW:{h}, wW:{w}\")\n",
    "  print(f\"Height:{height}, Weight:{width}\")"
   ]
  },
  {
   "cell_type": "code",
   "execution_count": null,
   "metadata": {
    "id": "eMVUG8H8BnyD"
   },
   "outputs": [],
   "source": [
    "# --------- 1. get image path and name ---------\n",
    "image_dir = 'ApplyingSODinAutoLabelling/test_data/test_images/'\n",
    "prediction_dir = 'ApplyingSODinAutoLabelling/test_data/test_results/'\n",
    "model_dir = '/content/gdrive/MyDrive/SODmodels/basnet.pth'\n",
    "img_name_list = glob.glob(image_dir + '*.jpg')"
   ]
  },
  {
   "cell_type": "code",
   "execution_count": null,
   "metadata": {
    "id": "_rCm0X6QBoPn"
   },
   "outputs": [],
   "source": [
    "# --------- 2. dataloader ---------\n",
    "#1. dataload\n",
    "test_salobj_dataset = SalObjDataset(img_name_list = img_name_list, lbl_name_list = [],transform=transforms.Compose([RescaleT(256),ToTensorLab(flag=0)]))\n",
    "test_salobj_dataloader = DataLoader(test_salobj_dataset, batch_size=1,shuffle=False,num_workers=1)\n",
    "\t"
   ]
  },
  {
   "cell_type": "code",
   "execution_count": null,
   "metadata": {
    "id": "WjeR8fW3Bojy"
   },
   "outputs": [],
   "source": []
  },
  {
   "cell_type": "code",
   "execution_count": null,
   "metadata": {
    "id": "MH65xaEXBoaM"
   },
   "outputs": [],
   "source": [
    "# --------- 3. model define ---------\n",
    "print(\"...load BASNet final...\")\n",
    "net = BASNet(3,1)\n",
    "net.load_state_dict(torch.load(model_dir))\n",
    "if torch.cuda.is_available():\n",
    "  net.cuda()\t\n",
    "net.eval()\n",
    "\n",
    "print(\"...load BASNet 52000...\")\n",
    "net1 = BASNet(3,1)\n",
    "net1.load_state_dict(torch.load(\"/content/gdrive/MyDrive/SODmodels/basnet_52000.pth\"))\n",
    "if torch.cuda.is_available():\n",
    "  net1.cuda()\t\n",
    "net1.eval()\n",
    "\n",
    "print(\"...load BASNet 4000...\")\n",
    "net2 = BASNet(3,1)\n",
    "net2.load_state_dict(torch.load(\"/content/gdrive/MyDrive/SODmodels/basnet_4000.pth\"))\n",
    "if torch.cuda.is_available():\n",
    "  net2.cuda()\t\n",
    "net2.eval()"
   ]
  },
  {
   "cell_type": "code",
   "execution_count": null,
   "metadata": {
    "id": "hE2bULPBBotN"
   },
   "outputs": [],
   "source": [
    "# --------- 4. inference for each image ---------\n",
    "for i_test, data_test in enumerate(test_salobj_dataloader):\n",
    "  start = time.time()\t\n",
    "  print(\"\\ninferencing:\",img_name_list[i_test].split(\"/\")[-1])\n",
    "  \n",
    "  inputs_test = data_test['image']\n",
    "  inputs_test = inputs_test.type(torch.FloatTensor)\n",
    "  if torch.cuda.is_available():\n",
    "    inputs_test = Variable(inputs_test.cuda())\n",
    "  else:\n",
    "    inputs_test = Variable(inputs_test)\n",
    "    \n",
    "  d1,d2,d3,d4,d5,d6,d7,d8 = net(inputs_test)\n",
    "  d1_1,_,_,_,_,_,_,_ = net1(inputs_test)\n",
    "  d1_2,_,_,_,_,_,_,_ = net2(inputs_test)\n",
    "  \n",
    "  # normalization\n",
    "  pred = d1[:,0,:,:]\n",
    "  pred = normPRED(pred)\n",
    "\n",
    "  pred1 = d1_1[:,0,:,:]\n",
    "  pred1 = normPRED(pred1)\n",
    "\n",
    "  pred2 = d1_2[:,0,:,:]\n",
    "  pred2 = normPRED(pred2)\t\n",
    "\n",
    "  print(\"\\nBASNET:\")\n",
    "  save_output(img_name_list[i_test],pred,prediction_dir)\n",
    "  print(\"\\nBASNET 52000:\")\n",
    "  save_output(img_name_list[i_test],pred1,prediction_dir)\n",
    "  print(\"\\nBASNET 4000:\")\n",
    "  save_output(img_name_list[i_test],pred2,prediction_dir)\n",
    "  print(\"Time: \", time.time() - start, \"\\n\")\n",
    "  break\n",
    "  del d1,d2,d3,d4,d5,d6,d7,d8\n"
   ]
  },
  {
   "cell_type": "code",
   "execution_count": null,
   "metadata": {
    "id": "rprS0Cwi6IwZ"
   },
   "outputs": [],
   "source": []
  }
 ],
 "metadata": {
  "accelerator": "GPU",
  "colab": {
   "collapsed_sections": [],
   "name": "ApplyingSODinAutoLabelling.ipynb",
   "private_outputs": true,
   "provenance": []
  },
  "kernelspec": {
   "display_name": "Python 3",
   "language": "python",
   "name": "python3"
  },
  "language_info": {
   "codemirror_mode": {
    "name": "ipython",
    "version": 3
   },
   "file_extension": ".py",
   "mimetype": "text/x-python",
   "name": "python",
   "nbconvert_exporter": "python",
   "pygments_lexer": "ipython3",
   "version": "3.8.6"
  }
 },
 "nbformat": 4,
 "nbformat_minor": 1
}
